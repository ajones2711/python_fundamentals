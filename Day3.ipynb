{
 "cells": [
  {
   "cell_type": "code",
   "execution_count": 3,
   "id": "5eb19b16-6a91-4bf2-90a9-488aeb1ad7bf",
   "metadata": {},
   "outputs": [
    {
     "name": "stdout",
     "output_type": "stream",
     "text": [
      "  Andrew\n"
     ]
    }
   ],
   "source": [
    "name='  Andrew'\n",
    "print(name)"
   ]
  },
  {
   "cell_type": "code",
   "execution_count": 5,
   "id": "5a740b6c-7798-40c0-b6c7-509fd77388b5",
   "metadata": {},
   "outputs": [
    {
     "name": "stdout",
     "output_type": "stream",
     "text": [
      "andrew jones\n"
     ]
    }
   ],
   "source": [
    "fullname = 'andrew jones'\n",
    "print(fullname)"
   ]
  },
  {
   "cell_type": "code",
   "execution_count": 6,
   "id": "29e18316-5981-4b8e-8889-535143b15851",
   "metadata": {},
   "outputs": [
    {
     "name": "stdout",
     "output_type": "stream",
     "text": [
      "Andrew Jones\n"
     ]
    }
   ],
   "source": [
    "fullname='andrew jones'\n",
    "print(fullname.title())"
   ]
  },
  {
   "cell_type": "code",
   "execution_count": 8,
   "id": "500d7487-4c04-4680-9f2f-aa7661632601",
   "metadata": {},
   "outputs": [
    {
     "name": "stdout",
     "output_type": "stream",
     "text": [
      "ANDREW JONES\n"
     ]
    }
   ],
   "source": [
    "fullname='andrew jones'\n",
    "print(fullname.upper())"
   ]
  },
  {
   "cell_type": "code",
   "execution_count": 9,
   "id": "2898e63b-6f3f-4b6e-9d77-06faddd5c425",
   "metadata": {},
   "outputs": [
    {
     "name": "stdout",
     "output_type": "stream",
     "text": [
      "andrew jones\n"
     ]
    }
   ],
   "source": [
    "fullname='ANDREW JONES'\n",
    "print(fullname.lower())"
   ]
  },
  {
   "cell_type": "code",
   "execution_count": 18,
   "id": "05882b44-71b7-4b82-bce4-20301e8cd008",
   "metadata": {},
   "outputs": [
    {
     "name": "stdout",
     "output_type": "stream",
     "text": [
      "andrewjones\n"
     ]
    }
   ],
   "source": [
    "firstname='andrew'\n",
    "lastname='jones'\n",
    "fullname=f\"{firstname}{lastname}\"\n",
    "print(fullname)\n",
    "    "
   ]
  },
  {
   "cell_type": "code",
   "execution_count": 25,
   "id": "4af79c04-1ef9-4142-b277-2a0f0c3e952c",
   "metadata": {},
   "outputs": [
    {
     "name": "stdout",
     "output_type": "stream",
     "text": [
      "Andrewjones\n"
     ]
    }
   ],
   "source": [
    "firstname='andrew'\n",
    "lastname='jones'\n",
    "fullname=f\"{firstname}{lastname}\"\n",
    "print(fullname.title())"
   ]
  },
  {
   "cell_type": "code",
   "execution_count": 23,
   "id": "6b4d90b2-1313-48ba-8415-0b75991197ce",
   "metadata": {},
   "outputs": [
    {
     "name": "stdout",
     "output_type": "stream",
     "text": [
      "keep up the good work,Andrewjones\n"
     ]
    }
   ],
   "source": [
    "message=f'keep up the good work,{fullname.title()}'\n",
    "print(message)"
   ]
  },
  {
   "cell_type": "code",
   "execution_count": 27,
   "id": "b18f1a90-f826-4431-bfbf-4a30d6b6dfb8",
   "metadata": {},
   "outputs": [
    {
     "name": "stdout",
     "output_type": "stream",
     "text": [
      "balaji\n"
     ]
    }
   ],
   "source": [
    "name=' balaji'\n",
    "print(name.lstrip())"
   ]
  },
  {
   "cell_type": "code",
   "execution_count": 29,
   "id": "00e31f4e-d8d4-4910-94a8-620ffd75d86e",
   "metadata": {},
   "outputs": [
    {
     "name": "stdout",
     "output_type": "stream",
     "text": [
      "balaji\n"
     ]
    }
   ],
   "source": [
    "name='balaji  '\n",
    "print(name.rstrip())"
   ]
  },
  {
   "cell_type": "code",
   "execution_count": null,
   "id": "b8fa0784-67b9-4b7a-85fc-388e8a29de80",
   "metadata": {},
   "outputs": [],
   "source": []
  }
 ],
 "metadata": {
  "kernelspec": {
   "display_name": "Python 3",
   "language": "python",
   "name": "python3"
  },
  "language_info": {
   "codemirror_mode": {
    "name": "ipython",
    "version": 3
   },
   "file_extension": ".py",
   "mimetype": "text/x-python",
   "name": "python",
   "nbconvert_exporter": "python",
   "pygments_lexer": "ipython3",
   "version": "3.8.8"
  }
 },
 "nbformat": 4,
 "nbformat_minor": 5
}
